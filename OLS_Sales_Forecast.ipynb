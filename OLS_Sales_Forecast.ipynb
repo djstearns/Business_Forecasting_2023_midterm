{
 "cells": [
  {
   "cell_type": "markdown",
   "id": "983cf367-fe55-4607-91e9-3b2471c8c8ef",
   "metadata": {},
   "source": [
    "Using OLS for sales forecast:\n",
    "\n",
    "Using OLS regression, this code predicts a three-month forecast of future sales based on historical sales data from Brazilian e-commerce. The code first filters the orders by date and then converts the dates to period format. The code then aggregates the monthly sales and calculates the growth rate. The code fits an OLS model and computes the forecast after defining the dependent and independent variables. Finally, the code displays the plot of historical and forecasted sales data."
   ]
  },
  {
   "cell_type": "code",
   "execution_count": 11,
   "id": "a4605907-faef-4cdd-a7f1-d1e4752b6469",
   "metadata": {
    "tags": []
   },
   "outputs": [],
   "source": [
    "import pandas as pd\n",
    "import numpy as np\n",
    "import statsmodels.api as sm\n",
    "import matplotlib.pyplot as plt"
   ]
  },
  {
   "cell_type": "code",
   "execution_count": 12,
   "id": "8870294b-e44b-41fb-a8b5-598b4f1b2268",
   "metadata": {
    "tags": []
   },
   "outputs": [],
   "source": [
    "# Load orders and order items datasets\n",
    "orders = pd.read_csv('olist_orders_dataset.csv')\n",
    "order_items = pd.read_csv('olist_order_items_dataset.csv')\n",
    "\n",
    "# Merge orders and order items\n",
    "orders = pd.merge(orders, order_items, on='order_id')\n",
    "\n",
    "# Convert date columns to datetime format\n",
    "orders['order_purchase_timestamp'] = pd.to_datetime(orders['order_purchase_timestamp'])\n",
    "orders['order_approved_at'] = pd.to_datetime(orders['order_approved_at'])\n",
    "\n",
    "# Filter orders by date\n",
    "orders = orders.loc[(orders['order_approved_at'] >= '2017-01-07') & (orders['order_approved_at'] <= '2018-08-17')]\n",
    "\n",
    "# Compute order price\n",
    "orders['price'] = orders['price'] * orders['order_item_id']\n",
    "\n",
    "# Convert dates to period format\n",
    "orders['order_month'] = orders['order_approved_at'].dt.to_period('M')\n",
    "\n",
    "# Aggregate monthly sales\n",
    "monthly_sales = orders.groupby('order_month')['price'].sum()\n",
    "\n",
    "# Compute growth rate\n",
    "monthly_growth = monthly_sales.pct_change()"
   ]
  },
  {
   "cell_type": "code",
   "execution_count": 13,
   "id": "b31896b9-985b-416a-b976-c38746cabe2f",
   "metadata": {
    "tags": []
   },
   "outputs": [
    {
     "name": "stdout",
     "output_type": "stream",
     "text": [
      "                            OLS Regression Results                            \n",
      "==============================================================================\n",
      "Dep. Variable:                      y   R-squared:                       0.003\n",
      "Model:                            OLS   Adj. R-squared:                 -0.059\n",
      "Method:                 Least Squares   F-statistic:                   0.04929\n",
      "Date:                Mon, 20 Mar 2023   Prob (F-statistic):              0.827\n",
      "Time:                        15:54:52   Log-Likelihood:                 1.3470\n",
      "No. Observations:                  18   AIC:                             1.306\n",
      "Df Residuals:                      16   BIC:                             3.087\n",
      "Df Model:                           1                                         \n",
      "Covariance Type:            nonrobust                                         \n",
      "==============================================================================\n",
      "                 coef    std err          t      P>|t|      [0.025      0.975]\n",
      "------------------------------------------------------------------------------\n",
      "const          0.0730      0.063      1.157      0.264      -0.061       0.207\n",
      "x1             0.0426      0.192      0.222      0.827      -0.365       0.450\n",
      "==============================================================================\n",
      "Omnibus:                        0.629   Durbin-Watson:                   2.533\n",
      "Prob(Omnibus):                  0.730   Jarque-Bera (JB):                0.636\n",
      "Skew:                           0.157   Prob(JB):                        0.728\n",
      "Kurtosis:                       2.134   Cond. No.                         3.51\n",
      "==============================================================================\n",
      "\n",
      "Notes:\n",
      "[1] Standard Errors assume that the covariance matrix of the errors is correctly specified.\n"
     ]
    },
    {
     "name": "stderr",
     "output_type": "stream",
     "text": [
      "/Users/derek/opt/anaconda3/lib/python3.8/site-packages/scipy/stats/stats.py:1603: UserWarning: kurtosistest only valid for n>=20 ... continuing anyway, n=18\n",
      "  warnings.warn(\"kurtosistest only valid for n>=20 ... continuing \"\n"
     ]
    }
   ],
   "source": [
    "# Remove first row with NaN value\n",
    "monthly_growth = monthly_growth.dropna()\n",
    "\n",
    "# Define dependent and independent variables\n",
    "X = sm.add_constant(monthly_growth.values[:-1])\n",
    "y = monthly_growth.values[1:]\n",
    "\n",
    "# Fit OLS model\n",
    "model = sm.OLS(y, X)\n",
    "results = model.fit()\n",
    "print(results.summary())"
   ]
  },
  {
   "cell_type": "markdown",
   "id": "9d1dd0ed-6dda-4664-a6bb-34431846b9de",
   "metadata": {},
   "source": [
    "Findings:\n",
    "\n",
    "* The p-value for the independent variable is 0.827, which is not statistically significant at the 5% level.\n",
    "\n",
    "* The adjusted R-squared value is  -0.059, which adjusts for the number of independent variables in the model and penalizes models with additional variables that do not improve the fit. Note: A negative adjusted R-squared indicates that the model is not a good fit for the data\n",
    "\n",
    "* The F-statistic measures the overall fit of the model, with larger values indicating a better fit. The p-value for the F-statistic is 0.04929, indicating that the model does not provide a significantly better fit than a model with no independent variables.\n",
    "\n",
    "* Overall, the OLS model in this code suggests that the monthly growth rate does not have a statistically significant effect on the three-month sales forecast. Therefore, it may not be an accurate predictor of future sales."
   ]
  },
  {
   "cell_type": "code",
   "execution_count": 34,
   "id": "c251808e-7db3-43d0-87d2-9a17681c739f",
   "metadata": {
    "tags": []
   },
   "outputs": [
    {
     "name": "stdout",
     "output_type": "stream",
     "text": [
      "Three-month sales forecast: 2286567.71\n"
     ]
    }
   ],
   "source": [
    "# Compute forecast\n",
    "forecast = results.predict([3, monthly_growth[-1]])\n",
    "\n",
    "# Print forecast\n",
    "print('Three-month sales forecast: {:.2f}'.format(monthly_sales[-1] * (1 + forecast[0])*3))"
   ]
  },
  {
   "cell_type": "code",
   "execution_count": 24,
   "id": "5c14e222-c393-4754-aac8-16249e042b43",
   "metadata": {},
   "outputs": [
    {
     "data": {
      "text/plain": [
       "718184.2700000136"
      ]
     },
     "execution_count": 24,
     "metadata": {},
     "output_type": "execute_result"
    }
   ],
   "source": [
    "monthly_sales[-1]"
   ]
  },
  {
   "cell_type": "code",
   "execution_count": 25,
   "id": "ca33fb4d-736e-44ab-a485-792f4eca7aee",
   "metadata": {},
   "outputs": [
    {
     "data": {
      "text/plain": [
       "1.2073685568260737"
      ]
     },
     "execution_count": 25,
     "metadata": {},
     "output_type": "execute_result"
    }
   ],
   "source": [
    "1 + forecast[0]"
   ]
  },
  {
   "cell_type": "code",
   "execution_count": 26,
   "id": "6d0518ba-380a-4b54-a4e4-4efc7c4edbaf",
   "metadata": {},
   "outputs": [
    {
     "data": {
      "text/plain": [
       "1.7600280298359878"
      ]
     },
     "execution_count": 26,
     "metadata": {},
     "output_type": "execute_result"
    }
   ],
   "source": [
    "(1 + forecast[0])**3"
   ]
  },
  {
   "cell_type": "code",
   "execution_count": 27,
   "id": "24c7a961-f035-4f15-a028-883dd97cc508",
   "metadata": {},
   "outputs": [
    {
     "data": {
      "text/plain": [
       "array([0.20736856])"
      ]
     },
     "execution_count": 27,
     "metadata": {},
     "output_type": "execute_result"
    }
   ],
   "source": [
    "forecast"
   ]
  },
  {
   "cell_type": "code",
   "execution_count": 28,
   "id": "a3897583-bbda-439f-aaf2-6cbdd11f74b2",
   "metadata": {},
   "outputs": [
    {
     "data": {
      "text/plain": [
       "order_month\n",
       "2017-01     134925.96\n",
       "2017-02     269543.21\n",
       "2017-03     409198.73\n",
       "2017-04     396398.35\n",
       "2017-05     563182.98\n",
       "2017-06     476800.91\n",
       "2017-07     551671.65\n",
       "2017-08     654049.03\n",
       "2017-09     698839.82\n",
       "2017-10     816080.79\n",
       "2017-11    1160381.63\n",
       "2017-12     839777.68\n",
       "2018-01    1061733.57\n",
       "2018-02     963576.98\n",
       "2018-03    1120199.22\n",
       "2018-04    1111081.72\n",
       "2018-05    1162168.59\n",
       "2018-06     981283.47\n",
       "2018-07     992118.03\n",
       "2018-08     718184.27\n",
       "Freq: M, Name: price, dtype: float64"
      ]
     },
     "execution_count": 28,
     "metadata": {},
     "output_type": "execute_result"
    }
   ],
   "source": [
    "monthly_sales"
   ]
  },
  {
   "cell_type": "markdown",
   "id": "3d1e0c9d-15b2-4f7f-9113-d015a7010080",
   "metadata": {},
   "source": [
    "Findings based on the three-month sales forecast:\n",
    "\n",
    "* The three-month sales forecast is a prediction of what the sales amount is expected to be over the next three months, based on the statistical analysis performed on the historical data. \n",
    "* In this case, the forecast is for a sales amount of 858453.26, which is the predicted sales for the next three months after the end of the historical data."
   ]
  },
  {
   "cell_type": "code",
   "execution_count": 10,
   "id": "a07fa83e-7e43-4067-a7d1-92d086522322",
   "metadata": {
    "tags": []
   },
   "outputs": [
    {
     "data": {
      "image/png": "[encoded data removed]",
      "text/plain": [
       "<Figure size 720x360 with 1 Axes>"
      ]
     },
     "metadata": {
      "needs_background": "light"
     },
     "output_type": "display_data"
    }
   ],
   "source": [
    "# Plot the historical sales data\n",
    "plt.plot(monthly_sales.index.astype(str), monthly_sales.values)\n",
    "\n",
    "# Plot the forecasted sales\n",
    "forecast_dates = pd.period_range(start=monthly_sales.index[-1], periods=3, freq='M').strftime('%Y-%m-%d')\n",
    "plt.plot(forecast_dates, monthly_sales[-1] * (1 + forecast)**np.arange(1,4), 'r--')\n",
    "\n",
    "# Set plot title and labels\n",
    "plt.title('Brazilian E-Commerce Sales')\n",
    "plt.xlabel('Month')\n",
    "plt.ylabel('Sales')\n",
    "plt.legend(['Historical Sales', 'Forecasted Sales'])\n",
    "\n",
    "# Adjust figure size and x-axis labels\n",
    "plt.rcParams['figure.figsize'] = [10, 5]\n",
    "plt.xticks(rotation=45)\n",
    "\n",
    "# Show the plot\n",
    "plt.show()"
   ]
  },
  {
   "cell_type": "code",
   "execution_count": null,
   "id": "93ae1fb8-429c-45cc-806a-b7241a650853",
   "metadata": {},
   "outputs": [],
   "source": []
  },
  {
   "cell_type": "code",
   "execution_count": null,
   "id": "41138de6-3400-4757-8f8a-b386c368bcb3",
   "metadata": {},
   "outputs": [],
   "source": []
  }
 ],
 "metadata": {
  "kernelspec": {
   "display_name": "Python 3",
   "language": "python",
   "name": "python3"
  },
  "language_info": {
   "codemirror_mode": {
    "name": "ipython",
    "version": 3
   },
   "file_extension": ".py",
   "mimetype": "text/x-python",
   "name": "python",
   "nbconvert_exporter": "python",
   "pygments_lexer": "ipython3",
   "version": "3.8.8"
  }
 },
 "nbformat": 4,
 "nbformat_minor": 5
}
